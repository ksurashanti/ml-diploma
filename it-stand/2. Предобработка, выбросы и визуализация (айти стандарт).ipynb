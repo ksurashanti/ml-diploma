{
 "cells": [
  {
   "cell_type": "code",
   "execution_count": 1,
   "id": "a554e2aa",
   "metadata": {},
   "outputs": [],
   "source": [
    "import pandas as pd\n",
    "import matplotlib.pyplot as plt\n",
    "import seaborn as sns"
   ]
  },
  {
   "cell_type": "code",
   "execution_count": 2,
   "id": "5589020d",
   "metadata": {},
   "outputs": [
    {
     "data": {
      "text/html": [
       "<div>\n",
       "<style scoped>\n",
       "    .dataframe tbody tr th:only-of-type {\n",
       "        vertical-align: middle;\n",
       "    }\n",
       "\n",
       "    .dataframe tbody tr th {\n",
       "        vertical-align: top;\n",
       "    }\n",
       "\n",
       "    .dataframe thead th {\n",
       "        text-align: right;\n",
       "    }\n",
       "</style>\n",
       "<table border=\"1\" class=\"dataframe\">\n",
       "  <thead>\n",
       "    <tr style=\"text-align: right;\">\n",
       "      <th></th>\n",
       "      <th>title</th>\n",
       "      <th>annotation</th>\n",
       "      <th>authors</th>\n",
       "      <th>link</th>\n",
       "      <th>article_text</th>\n",
       "      <th>year</th>\n",
       "    </tr>\n",
       "  </thead>\n",
       "  <tbody>\n",
       "    <tr>\n",
       "      <th>0</th>\n",
       "      <td>НА ПОВЕСТКЕ ДНЯ – ПОСТРОЕНИЕ НООСФЕРЫ</td>\n",
       "      <td>Аннотация:Показа ны потенциал новых информацио...</td>\n",
       "      <td>Назаренко А.П.; Сарьян В.К.; Мещеряков В.Р.</td>\n",
       "      <td>https://itstd-journal.ru/?page_id=1080&amp;article...</td>\n",
       "      <td>НА ПОВЕСТКЕ ДНЯ – ПОСТРОЕНИЕ НООСФЕРЫ\\n1Назаре...</td>\n",
       "      <td>2017</td>\n",
       "    </tr>\n",
       "    <tr>\n",
       "      <th>1</th>\n",
       "      <td>ОПЫТ ИНТЕГРАЦИИ РАСПРЕДЕЛЕННЫХ ИНФОРМАЦИОННЫХ ...</td>\n",
       "      <td>Аннотация:Рассматривается опыт разработок архи...</td>\n",
       "      <td>Денисов В.Ф.; Куделькин В.А.</td>\n",
       "      <td>https://itstd-journal.ru/?page_id=1080&amp;article...</td>\n",
       "      <td>ОПЫТ ИНТЕГРАЦИИ\\nРАСПРЕДЕЛЕННЫХ ИНФОРМАЦИОННЫХ...</td>\n",
       "      <td>2017</td>\n",
       "    </tr>\n",
       "    <tr>\n",
       "      <th>2</th>\n",
       "      <td>ПУТИ РЕШЕНИЯ НЕКОТОРЫХ ПРОБЛЕМ КОМПЛЕКСНОЙ БЕЗ...</td>\n",
       "      <td>Аннотация:Сформулированы приоритетные проблемы...</td>\n",
       "      <td>Костогрызов А.И.</td>\n",
       "      <td>https://itstd-journal.ru/?page_id=1080&amp;article...</td>\n",
       "      <td>ПУТИ РЕШЕНИЯ НЕКОТОРЫХ ПРОБЛЕМ КОМПЛЕКСНОЙ\\nБЕ...</td>\n",
       "      <td>2017</td>\n",
       "    </tr>\n",
       "    <tr>\n",
       "      <th>3</th>\n",
       "      <td>ПРОГНОЗИРОВАНИЕ ВРЕМЕНИ ДО НАРУШЕНИЯ ЦЕЛОСТНОС...</td>\n",
       "      <td>Аннотация:Предложен подход к прогнозированию о...</td>\n",
       "      <td>Нистратов А.А.; Нистратов Г.А.</td>\n",
       "      <td>https://itstd-journal.ru/?page_id=1080&amp;article...</td>\n",
       "      <td>ПРОГНОЗИРОВАНИЕ ВРЕМЕНИ ДО НАРУШЕНИЯ ЦЕЛОСТНОС...</td>\n",
       "      <td>2017</td>\n",
       "    </tr>\n",
       "    <tr>\n",
       "      <th>4</th>\n",
       "      <td>ОЦЕНКА СООТВЕТСТВИЯ В ОБЛАСТИ ТЕХНОЛОГИЙ ИСКУС...</td>\n",
       "      <td>Аннотация:Технологии искусственного интеллекта...</td>\n",
       "      <td>Гарбук С.В.</td>\n",
       "      <td>https://itstd-journal.ru/?page_id=1080&amp;article...</td>\n",
       "      <td>ОЦЕНКА СООТВЕТСТВИЯ В ОБЛАСТИ ТЕХНОЛОГИЙ\\nИСКУ...</td>\n",
       "      <td>2017</td>\n",
       "    </tr>\n",
       "    <tr>\n",
       "      <th>...</th>\n",
       "      <td>...</td>\n",
       "      <td>...</td>\n",
       "      <td>...</td>\n",
       "      <td>...</td>\n",
       "      <td>...</td>\n",
       "      <td>...</td>\n",
       "    </tr>\n",
       "    <tr>\n",
       "      <th>198</th>\n",
       "      <td>ОБЛАСТИ ПРИМЕНИМОСТИ НЕСЕКВЕНЦИАЛЬНЫХ АЛГОРИТМОВ</td>\n",
       "      <td>Аннотация:Цель работы – исследование области п...</td>\n",
       "      <td>Козлов А.В., Титов Е.К.</td>\n",
       "      <td>https://itstd-journal.ru/?page_id=1080&amp;article...</td>\n",
       "      <td>subsidiary computations, information construct...</td>\n",
       "      <td>2021</td>\n",
       "    </tr>\n",
       "    <tr>\n",
       "      <th>199</th>\n",
       "      <td>ПРИОРИТЕТНЫЕ НАПРАВЛЕНИЯ РАЗВИТИЯ СИСТЕМНОЙ ИН...</td>\n",
       "      <td>Аннотация:Настоящая работа посвящена формирова...</td>\n",
       "      <td>Зацаринный А.А., Костогрызов А.И., Нистратов А.А.</td>\n",
       "      <td>https://itstd-journal.ru/?page_id=1080&amp;article...</td>\n",
       "      <td>1 Введение\\nСравнительный анализ различных рос...</td>\n",
       "      <td>2021</td>\n",
       "    </tr>\n",
       "    <tr>\n",
       "      <th>200</th>\n",
       "      <td>ТЕОРЕТИЧЕСКОЕ РАЗВИТИЕ МОДЕЛЕЙ ДЛЯ ОЦЕНКИ ЗАЩИ...</td>\n",
       "      <td>Аннотация:Рассмотрены вопросы использования ан...</td>\n",
       "      <td>Гусев К. В., Леонтьев А.С.</td>\n",
       "      <td>https://itstd-journal.ru/?page_id=1080&amp;article...</td>\n",
       "      <td>function, approximation, unauthorized access.\\...</td>\n",
       "      <td>2021</td>\n",
       "    </tr>\n",
       "    <tr>\n",
       "      <th>201</th>\n",
       "      <td>АНАЛИЗ ДАННЫХ О ПОЕЗДКАХ В МЕГАПОЛИСЕ И ПРОГНО...</td>\n",
       "      <td>Аннотация:В данной статье исследуется набор да...</td>\n",
       "      <td>Дзержинский Р.И., Лапшин И.А., Аносов Т.Э.</td>\n",
       "      <td>https://itstd-journal.ru/?page_id=1080&amp;article...</td>\n",
       "      <td>УДК 519.24\\nАНАЛИЗ ДАННЫХ О ПОЕЗДКАХ В МЕГАПОЛ...</td>\n",
       "      <td>2021</td>\n",
       "    </tr>\n",
       "    <tr>\n",
       "      <th>202</th>\n",
       "      <td>МЕТОДИКА ЭКСПОРТА ДОКУМЕНТАЦИИ ИЗ СИСТЕМЫ УПРА...</td>\n",
       "      <td>Аннотация:В данной статье описывается процесс ...</td>\n",
       "      <td>Ниязова Л.А., Полторак А.В.</td>\n",
       "      <td>https://itstd-journal.ru/?page_id=1080&amp;article...</td>\n",
       "      <td>information space of the enterprise.\\nВведение...</td>\n",
       "      <td>2021</td>\n",
       "    </tr>\n",
       "  </tbody>\n",
       "</table>\n",
       "<p>203 rows × 6 columns</p>\n",
       "</div>"
      ],
      "text/plain": [
       "                                                 title  \\\n",
       "0                НА ПОВЕСТКЕ ДНЯ – ПОСТРОЕНИЕ НООСФЕРЫ   \n",
       "1    ОПЫТ ИНТЕГРАЦИИ РАСПРЕДЕЛЕННЫХ ИНФОРМАЦИОННЫХ ...   \n",
       "2    ПУТИ РЕШЕНИЯ НЕКОТОРЫХ ПРОБЛЕМ КОМПЛЕКСНОЙ БЕЗ...   \n",
       "3    ПРОГНОЗИРОВАНИЕ ВРЕМЕНИ ДО НАРУШЕНИЯ ЦЕЛОСТНОС...   \n",
       "4    ОЦЕНКА СООТВЕТСТВИЯ В ОБЛАСТИ ТЕХНОЛОГИЙ ИСКУС...   \n",
       "..                                                 ...   \n",
       "198   ОБЛАСТИ ПРИМЕНИМОСТИ НЕСЕКВЕНЦИАЛЬНЫХ АЛГОРИТМОВ   \n",
       "199  ПРИОРИТЕТНЫЕ НАПРАВЛЕНИЯ РАЗВИТИЯ СИСТЕМНОЙ ИН...   \n",
       "200  ТЕОРЕТИЧЕСКОЕ РАЗВИТИЕ МОДЕЛЕЙ ДЛЯ ОЦЕНКИ ЗАЩИ...   \n",
       "201  АНАЛИЗ ДАННЫХ О ПОЕЗДКАХ В МЕГАПОЛИСЕ И ПРОГНО...   \n",
       "202  МЕТОДИКА ЭКСПОРТА ДОКУМЕНТАЦИИ ИЗ СИСТЕМЫ УПРА...   \n",
       "\n",
       "                                            annotation  \\\n",
       "0    Аннотация:Показа ны потенциал новых информацио...   \n",
       "1    Аннотация:Рассматривается опыт разработок архи...   \n",
       "2    Аннотация:Сформулированы приоритетные проблемы...   \n",
       "3    Аннотация:Предложен подход к прогнозированию о...   \n",
       "4    Аннотация:Технологии искусственного интеллекта...   \n",
       "..                                                 ...   \n",
       "198  Аннотация:Цель работы – исследование области п...   \n",
       "199  Аннотация:Настоящая работа посвящена формирова...   \n",
       "200  Аннотация:Рассмотрены вопросы использования ан...   \n",
       "201  Аннотация:В данной статье исследуется набор да...   \n",
       "202  Аннотация:В данной статье описывается процесс ...   \n",
       "\n",
       "                                               authors  \\\n",
       "0          Назаренко А.П.; Сарьян В.К.; Мещеряков В.Р.   \n",
       "1                         Денисов В.Ф.; Куделькин В.А.   \n",
       "2                                     Костогрызов А.И.   \n",
       "3                       Нистратов А.А.; Нистратов Г.А.   \n",
       "4                                          Гарбук С.В.   \n",
       "..                                                 ...   \n",
       "198                            Козлов А.В., Титов Е.К.   \n",
       "199  Зацаринный А.А., Костогрызов А.И., Нистратов А.А.   \n",
       "200                         Гусев К. В., Леонтьев А.С.   \n",
       "201         Дзержинский Р.И., Лапшин И.А., Аносов Т.Э.   \n",
       "202                        Ниязова Л.А., Полторак А.В.   \n",
       "\n",
       "                                                  link  \\\n",
       "0    https://itstd-journal.ru/?page_id=1080&article...   \n",
       "1    https://itstd-journal.ru/?page_id=1080&article...   \n",
       "2    https://itstd-journal.ru/?page_id=1080&article...   \n",
       "3    https://itstd-journal.ru/?page_id=1080&article...   \n",
       "4    https://itstd-journal.ru/?page_id=1080&article...   \n",
       "..                                                 ...   \n",
       "198  https://itstd-journal.ru/?page_id=1080&article...   \n",
       "199  https://itstd-journal.ru/?page_id=1080&article...   \n",
       "200  https://itstd-journal.ru/?page_id=1080&article...   \n",
       "201  https://itstd-journal.ru/?page_id=1080&article...   \n",
       "202  https://itstd-journal.ru/?page_id=1080&article...   \n",
       "\n",
       "                                          article_text  year  \n",
       "0    НА ПОВЕСТКЕ ДНЯ – ПОСТРОЕНИЕ НООСФЕРЫ\\n1Назаре...  2017  \n",
       "1    ОПЫТ ИНТЕГРАЦИИ\\nРАСПРЕДЕЛЕННЫХ ИНФОРМАЦИОННЫХ...  2017  \n",
       "2    ПУТИ РЕШЕНИЯ НЕКОТОРЫХ ПРОБЛЕМ КОМПЛЕКСНОЙ\\nБЕ...  2017  \n",
       "3    ПРОГНОЗИРОВАНИЕ ВРЕМЕНИ ДО НАРУШЕНИЯ ЦЕЛОСТНОС...  2017  \n",
       "4    ОЦЕНКА СООТВЕТСТВИЯ В ОБЛАСТИ ТЕХНОЛОГИЙ\\nИСКУ...  2017  \n",
       "..                                                 ...   ...  \n",
       "198  subsidiary computations, information construct...  2021  \n",
       "199  1 Введение\\nСравнительный анализ различных рос...  2021  \n",
       "200  function, approximation, unauthorized access.\\...  2021  \n",
       "201  УДК 519.24\\nАНАЛИЗ ДАННЫХ О ПОЕЗДКАХ В МЕГАПОЛ...  2021  \n",
       "202  information space of the enterprise.\\nВведение...  2021  \n",
       "\n",
       "[203 rows x 6 columns]"
      ]
     },
     "execution_count": 2,
     "metadata": {},
     "output_type": "execute_result"
    }
   ],
   "source": [
    "df = pd.read_json('it-st-articles-with-year.json')\n",
    "df"
   ]
  },
  {
   "cell_type": "code",
   "execution_count": 7,
   "id": "8569dc08",
   "metadata": {},
   "outputs": [
    {
     "name": "stdout",
     "output_type": "stream",
     "text": [
      "year:  0\n",
      "title:  0\n",
      "link:  0\n",
      "annotation:  0\n",
      "authors:  0\n",
      "article_text:  1\n"
     ]
    }
   ],
   "source": [
    "nan_count = df['year'].isna().sum().sum()\n",
    "print('year: ', nan_count)\n",
    "nan_count = df['title'].isna().sum().sum()\n",
    "print('title: ', nan_count)\n",
    "nan_count = df['link'].isna().sum().sum()\n",
    "print('link: ', nan_count)\n",
    "nan_count = df['annotation'].isna().sum().sum()\n",
    "print('annotation: ', nan_count)\n",
    "nan_count = df['authors'].isna().sum().sum()\n",
    "print('authors: ', nan_count)\n",
    "nan_count = df['article_text'].isna().sum().sum()\n",
    "print('article_text: ', nan_count)"
   ]
  },
  {
   "cell_type": "code",
   "execution_count": 9,
   "id": "b3c25250",
   "metadata": {},
   "outputs": [],
   "source": [
    "#удаление строки с пустым текстом\n",
    "df = df.dropna(subset='article_text')"
   ]
  },
  {
   "cell_type": "code",
   "execution_count": 12,
   "id": "cdfa5839",
   "metadata": {},
   "outputs": [
    {
     "name": "stdout",
     "output_type": "stream",
     "text": [
      "article_text:  0\n"
     ]
    }
   ],
   "source": [
    "nan_count = df['article_text'].isna().sum().sum()\n",
    "print('article_text: ', nan_count)"
   ]
  },
  {
   "cell_type": "code",
   "execution_count": 24,
   "id": "0c7074fd",
   "metadata": {},
   "outputs": [],
   "source": [
    "df.to_json('it-st-articles-with-year.json', orient='records') "
   ]
  },
  {
   "cell_type": "code",
   "execution_count": 13,
   "id": "7b18d706",
   "metadata": {},
   "outputs": [],
   "source": [
    "#собираем количество слов\n",
    "count_words = []\n",
    "for el in df['article_text']:\n",
    "    count_words.append(len(el.split()))"
   ]
  },
  {
   "cell_type": "code",
   "execution_count": 14,
   "id": "6506cd42",
   "metadata": {},
   "outputs": [
    {
     "name": "stderr",
     "output_type": "stream",
     "text": [
      "C:\\Users\\Алехандро\\AppData\\Local\\Temp\\ipykernel_2396\\3150149876.py:2: SettingWithCopyWarning: \n",
      "A value is trying to be set on a copy of a slice from a DataFrame.\n",
      "Try using .loc[row_indexer,col_indexer] = value instead\n",
      "\n",
      "See the caveats in the documentation: https://pandas.pydata.org/pandas-docs/stable/user_guide/indexing.html#returning-a-view-versus-a-copy\n",
      "  df['count_words'] = count_words\n"
     ]
    }
   ],
   "source": [
    "#ну и сразу добавим и эту информацию в датафрейм\n",
    "df['count_words'] = count_words"
   ]
  },
  {
   "cell_type": "code",
   "execution_count": 16,
   "id": "3ce69aa3",
   "metadata": {},
   "outputs": [
    {
     "name": "stdout",
     "output_type": "stream",
     "text": [
      "count_words \n",
      " мин: 601 \n",
      " макс: 10826 \n",
      " размах: 10225 \n",
      " дисперсия: 2226508 \n",
      " среднее: 2334.5445544554455 \n",
      " медиана: 1883.5 \n",
      " мода: 1203\n"
     ]
    }
   ],
   "source": [
    "min_ = min(df['count_words'])\n",
    "max_ = max(df['count_words'])\n",
    "range_ = max_ - min_\n",
    "disp = int(df['count_words'].var())\n",
    "mean = df['count_words'].mean()\n",
    "median = df['count_words'].median()\n",
    "mode = int(df['count_words'].mode()[0])\n",
    "print('count_words','\\n', 'мин:', min_,'\\n', 'макс:', max_, '\\n', 'размах:', range_, '\\n', 'дисперсия:', disp, \n",
    "      '\\n', 'среднее:', mean,'\\n', 'медиана:',median,'\\n', 'мода:', mode)"
   ]
  },
  {
   "cell_type": "markdown",
   "id": "0c6a83dc",
   "metadata": {},
   "source": [
    "0. Ищем выбросы\n",
    "\n",
    "Единственное место где могут быть выбросы это в количестве слов в статье. Вот их и посмотрим."
   ]
  },
  {
   "cell_type": "code",
   "execution_count": 17,
   "id": "e350a4b7",
   "metadata": {},
   "outputs": [
    {
     "name": "stdout",
     "output_type": "stream",
     "text": [
      "[7238, 8678, 10826, 6761, 6120, 5836, 7017, 7792, 5100, 5327, 7085, 5398]\n"
     ]
    }
   ],
   "source": [
    "iqr = df['count_words'].quantile(0.75) - df['count_words'].quantile(0.25)\n",
    "lower_bound = df['count_words'].quantile(0.25) - 1.5*iqr\n",
    "upper_bound = df['count_words'].quantile(0.75) + 1.5*iqr\n",
    "outliers = list(filter(lambda x: x < lower_bound or x > upper_bound , df['count_words']))\n",
    "print(outliers)"
   ]
  },
  {
   "cell_type": "markdown",
   "id": "a44703d3",
   "metadata": {},
   "source": [
    "Выбросы есть, но все длины статей теоретически возможны."
   ]
  },
  {
   "cell_type": "markdown",
   "id": "c9bfedb2",
   "metadata": {},
   "source": [
    "1. В какие годы чаще всего писали статьи в этой выборке?"
   ]
  },
  {
   "cell_type": "code",
   "execution_count": null,
   "id": "095b6ec4",
   "metadata": {},
   "outputs": [],
   "source": [
    "df"
   ]
  },
  {
   "cell_type": "code",
   "execution_count": 19,
   "id": "efa24b5d",
   "metadata": {},
   "outputs": [
    {
     "data": {
      "text/plain": [
       "[2014, 2015, 2016, 2017, 2021, 2022, 2023, 2024, 2025]"
      ]
     },
     "execution_count": 19,
     "metadata": {},
     "output_type": "execute_result"
    }
   ],
   "source": [
    "sorted(df['year'].unique())"
   ]
  },
  {
   "cell_type": "code",
   "execution_count": 22,
   "id": "c49fd199",
   "metadata": {},
   "outputs": [
    {
     "data": {
      "image/png": "[encoded data removed]",
      "text/plain": [
       "<Figure size 1800x400 with 1 Axes>"
      ]
     },
     "metadata": {},
     "output_type": "display_data"
    }
   ],
   "source": [
    "plt.figure(figsize=[18,4])\n",
    "sns.countplot(data=df, x='year', order=[2014, 2015, 2016, 2017, 2021, 2022, 2023, 2024, 2025] )\n",
    "plt.title('Количество статей по годам написания')\n",
    "plt.show()"
   ]
  },
  {
   "cell_type": "markdown",
   "id": "14795a89",
   "metadata": {},
   "source": [
    "В 2014 и в 2021 мало статей.\n",
    "\n",
    "В 2025 тоже, но дата анализа данных 04.04.2025, поэтому предполагаю что к концу года статей станет много."
   ]
  },
  {
   "cell_type": "markdown",
   "id": "fed7b563",
   "metadata": {},
   "source": [
    "2. Какая взаимосвязь между длиной статьи и годом написания?"
   ]
  },
  {
   "cell_type": "code",
   "execution_count": 23,
   "id": "f51bc4d1",
   "metadata": {},
   "outputs": [
    {
     "data": {
      "text/plain": [
       "[Text(0, 0, '3031'),\n",
       " Text(0, 0, '2820'),\n",
       " Text(0, 0, '2419'),\n",
       " Text(0, 0, '2352'),\n",
       " Text(0, 0, '1799.5'),\n",
       " Text(0, 0, '1726'),\n",
       " Text(0, 0, '1659.5'),\n",
       " Text(0, 0, '1580'),\n",
       " Text(0, 0, '1424')]"
      ]
     },
     "execution_count": 23,
     "metadata": {},
     "output_type": "execute_result"
    },
    {
     "data": {
      "image/png": "[encoded data removed]",
      "text/plain": [
       "<Figure size 2000x500 with 1 Axes>"
      ]
     },
     "metadata": {},
     "output_type": "display_data"
    }
   ],
   "source": [
    "top_salary = df[['count_words', 'year']].groupby('year').median().sort_values('count_words', ascending=False)\n",
    "ax = top_salary.plot(kind='bar', title='Медианная длина статьи в зависимости от года написания',\n",
    "                             xlabel='year',\n",
    "                             ylabel='count_words',\n",
    "                             figsize=[20,5])\n",
    "ax.bar_label(ax.containers[0])"
   ]
  },
  {
   "cell_type": "markdown",
   "id": "02f106de",
   "metadata": {},
   "source": [
    "Самые длинные статьи писали в 2024 и 2023 годах. Можно предположить, что со временем длина статей в журнале увеличивается."
   ]
  },
  {
   "cell_type": "code",
   "execution_count": null,
   "id": "45849ab8",
   "metadata": {},
   "outputs": [],
   "source": []
  },
  {
   "cell_type": "code",
   "execution_count": null,
   "id": "7b8f6be1",
   "metadata": {},
   "outputs": [],
   "source": []
  }
 ],
 "metadata": {
  "kernelspec": {
   "display_name": "Python 3 (ipykernel)",
   "language": "python",
   "name": "python3"
  },
  "language_info": {
   "codemirror_mode": {
    "name": "ipython",
    "version": 3
   },
   "file_extension": ".py",
   "mimetype": "text/x-python",
   "name": "python",
   "nbconvert_exporter": "python",
   "pygments_lexer": "ipython3",
   "version": "3.11.5"
  }
 },
 "nbformat": 4,
 "nbformat_minor": 5
}
