{
 "cells": [
  {
   "cell_type": "markdown",
   "id": "041a2335-f84c-46c8-9d7f-eaa61a6398c6",
   "metadata": {},
   "source": [
    "Есть датфрейм с authors, text, annotation и title. Текст предобработан, стоп-слова удалены. У одной статьи может быть несколько авторов, тогда они записаны в одной ячейке authors и разделены запятой. \n",
    "\n",
    "Функции:\n",
    "- для вычисления всех соавторов одного человека по ФИО, они могут быть записаны в разных ячейках датафрейма. \n",
    "\n",
    "- функция для векторизации текста.  \n",
    "\n",
    "- функция для вычисления коэффициента схожести.\n",
    "\n",
    "- функция для рекомендации новых соавторов. \n",
    "\n",
    "В функцию для рекомендации новых соавторов на вход ФИО автора. На выходе ФИО автора, названия всех статей в которых он участвовал, список его соавторов, список трёх рекомендуемых новых авторов/коллективов авторов, названия их статей и коэффициент близости. Нельзя рекомендовать автора самому себе и рекомендовать ему его текущих соавторов. Необходимо предусмотреть ситуацию когда рекомендуется несколько человек, написавших одну и ту же статью, при совпадении коэффициента близости у новых соавторов необходимо объединять их ФИО через запятую, писать их общую статью один раз и на 2 и 3 месте писать новых рекомендуемых авторов. При совпадении 2 и 3 рекомендации также следует их объединять и на третье место выводить следующих по коэффициенту схожести коллектив авторов/автора. Вывод должен быть с использованием pprint."
   ]
  },
  {
   "cell_type": "code",
   "execution_count": 262,
   "id": "e69a967a-a2af-4787-ba92-42d035d3c772",
   "metadata": {},
   "outputs": [],
   "source": [
    "import pandas as pd\n",
    "from sklearn.feature_extraction.text import TfidfVectorizer\n",
    "from sklearn.metrics.pairwise import cosine_similarity\n",
    "from collections import defaultdict\n",
    "import numpy as np"
   ]
  },
  {
   "cell_type": "code",
   "execution_count": 248,
   "id": "61969836-1e6c-4bad-b8fc-80020f94f0a9",
   "metadata": {},
   "outputs": [],
   "source": [
    "df = pd.read_excel('date_it_lemm.xlsx')"
   ]
  },
  {
   "cell_type": "code",
   "execution_count": 158,
   "id": "1e2f2566-c10d-4eb4-b5fd-07d8fa089205",
   "metadata": {},
   "outputs": [],
   "source": [
    "df['authors'] = df['authors'].str.split(',') #авторов через запятую разделяем"
   ]
  },
  {
   "cell_type": "markdown",
   "id": "ae8b5e87-f826-4abc-9c8f-48641516c490",
   "metadata": {},
   "source": [
    "Функция для поиска всех соавторов:"
   ]
  },
  {
   "cell_type": "code",
   "execution_count": 320,
   "id": "4d2babb9-8de7-4e6b-be21-ff9e6ae71956",
   "metadata": {},
   "outputs": [
    {
     "data": {
      "text/plain": [
       "['Тест Г.Ф.', 'Тест З.Ы.', 'Тест В.Ф.']"
      ]
     },
     "execution_count": 320,
     "metadata": {},
     "output_type": "execute_result"
    }
   ],
   "source": [
    "def get_coauthors(df, author_name):\n",
    "    coauthors = set()\n",
    "    for authors_list in df['authors'].str.split(', '):\n",
    "        if author_name in authors_list:\n",
    "            coauthors.update(authors_list)\n",
    "    coauthors.discard(author_name)  # удаляем самого автора\n",
    "    return list(coauthors)\n",
    "\n",
    "get_coauthors(df, 'Тест А.Б.')"
   ]
  },
  {
   "cell_type": "markdown",
   "id": "0a27aae0-b787-4d48-90ac-489655ae49d1",
   "metadata": {},
   "source": [
    "Векторизация текста:"
   ]
  },
  {
   "cell_type": "code",
   "execution_count": 326,
   "id": "11d6fa7d-e540-4e0b-ae79-abae01c06fbd",
   "metadata": {},
   "outputs": [],
   "source": [
    "def vectorize_texts(texts):\n",
    "    vectorizer = TfidfVectorizer()\n",
    "    tfidf_matrix = vectorizer.fit_transform(texts)\n",
    "    return tfidf_matrix, vectorizer"
   ]
  },
  {
   "cell_type": "markdown",
   "id": "9829b489-ea27-440b-8691-da1e9b6c3f38",
   "metadata": {},
   "source": [
    "Схожесть между целевыми статьями и всеми остальными"
   ]
  },
  {
   "cell_type": "code",
   "execution_count": 328,
   "id": "fdd6b97c-e52c-4946-b293-c76952873ead",
   "metadata": {},
   "outputs": [],
   "source": [
    "def calculate_similarity(tfidf_matrix, target_indices, all_indices):\n",
    "    similarities = cosine_similarity(tfidf_matrix[target_indices], tfidf_matrix[all_indices])\n",
    "    return similarities.max(axis=0)"
   ]
  },
  {
   "cell_type": "markdown",
   "id": "e3c942b9-805d-4d31-a4dd-0aec31e91bd8",
   "metadata": {},
   "source": [
    "Основная функция с рекомендацией"
   ]
  },
  {
   "cell_type": "code",
   "execution_count": 386,
   "id": "0f3b179d-c491-4103-adb5-ed4dd258f8af",
   "metadata": {},
   "outputs": [],
   "source": [
    "def recommend_new_coauthors(df, author_name):\n",
    "    \n",
    "    target_mask = df['authors'].str.contains(author_name, regex=False) #данные автора\n",
    "    target_indices = df[target_mask].index.tolist()\n",
    "    \n",
    "    if not target_indices:\n",
    "        return {\"error\": \"Автор не найден\"}\n",
    "    \n",
    "    current_coauthors = get_coauthors(df, author_name) #текущие соавторы\n",
    "    \n",
    "    tfidf_matrix, _ = vectorize_texts(df['text']) #векторизация\n",
    "    \n",
    "    all_indices = df.index.tolist() \n",
    "    similarities = calculate_similarity(tfidf_matrix, target_indices, all_indices) #схожести\n",
    "\n",
    "    results = pd.DataFrame({\n",
    "        'index': all_indices,\n",
    "        'similarity': similarities,\n",
    "        'authors': df['authors'],\n",
    "        'title': df['title']\n",
    "    })\n",
    "    \n",
    "    results = results[\n",
    "        (results['similarity'] < 1.0) &  #исключаем статьи автора\n",
    "        (~results['authors'].isin([author_name]))  #исключаем соавторов\n",
    "    ]\n",
    "    \n",
    "    #группировка по коэф схожести\n",
    "    grouped = results.groupby('similarity').agg({\n",
    "        'authors': lambda x: ', '.join(sorted(set(', '.join(x).split(', ')))),\n",
    "        'title': lambda x: ', '.join(sorted(set(x)))\n",
    "    }).reset_index().sort_values('similarity', ascending=False)\n",
    "    \n",
    "    recommendations = []\n",
    "    used_authors = set(current_coauthors + [author_name]) #формируем рекомендации\n",
    "    \n",
    "    for _, row in grouped.iterrows():\n",
    "        candidates = [a.strip() for a in row['authors'].split(',') if a.strip() not in used_authors]\n",
    "        if candidates:\n",
    "            unique_candidates = []\n",
    "            for candidate in candidates:\n",
    "                if candidate not in used_authors:\n",
    "                    unique_candidates.append(candidate)\n",
    "                    used_authors.add(candidate)\n",
    "            \n",
    "            if unique_candidates:\n",
    "                recommendations.append({\n",
    "                    'authors': ', '.join(unique_candidates),\n",
    "                    'titles': row['title'],\n",
    "                    'similarity': round(row['similarity'], 2)\n",
    "                })\n",
    "        \n",
    "        if len(recommendations) >= 3:\n",
    "            break\n",
    "    \n",
    "    #итоговый вывод\n",
    "    output = {\n",
    "        \"Автор\": author_name,\n",
    "        \"Текущие соавторы\": current_coauthors,\n",
    "        \"Статьи\": df[target_mask]['title'].tolist(),\n",
    "        \"Рекомендуемые соавторы\": recommendations[:3]\n",
    "    }\n",
    "    \n",
    "    return output"
   ]
  },
  {
   "cell_type": "code",
   "execution_count": 388,
   "id": "52740f50-072e-4ef4-a34e-f6777f128923",
   "metadata": {},
   "outputs": [
    {
     "name": "stdout",
     "output_type": "stream",
     "text": [
      "{'Автор': 'Большаков А. О.',\n",
      " 'Рекомендуемые соавторы': [{'authors': 'Воеводин Вл В., Жолудев Ю. А., '\n",
      "                                        'Соболев С. И., Стефанов К. С.',\n",
      "                             'similarity': 0.44,\n",
      "                             'titles': 'Эволюция системы метакомпьютинга '\n",
      "                                       'X-Com'},\n",
      "                            {'authors': 'Здитовец А. Л.',\n",
      "                             'similarity': 0.43,\n",
      "                             'titles': 'ОСНОВНЫЕ ТЕХНОЛОГИИ И ФРЕЙМВОРКИ ДЛЯ '\n",
      "                                       'БЕКЕНД-РАЗРАБОТКИ НА JAVA'},\n",
      "                            {'authors': 'Аньчков Максим Геннадьевич, Иванов '\n",
      "                                        'Сергей Владимирович',\n",
      "                             'similarity': 0.4,\n",
      "                             'titles': 'Разработка и реализация алгоритмов '\n",
      "                                       'передачи данных в телекоммуникационных '\n",
      "                                       'системах'}],\n",
      " 'Статьи': ['АВТОМАТИЗАЦИЯ ПРОЦЕССОВ МОНИТОРИНГА И ИНВЕНТАРИЗАЦИИ '\n",
      "            'ИНФОРМАЦИОННО-ТЕХНОЛОГИЧЕСКОЙ ИНФРАСТРУКТУРЫ, ПРИМЕНЯЕМОЙ В '\n",
      "            'УЧЕБНОМ ПРОЦЕССЕ'],\n",
      " 'Текущие соавторы': ['Леонтьев А. С.']}\n"
     ]
    }
   ],
   "source": [
    "rec_list = recommend_new_coauthors(df, 'Большаков А. О.')\n",
    "pprint.pprint(rec_list)"
   ]
  },
  {
   "cell_type": "code",
   "execution_count": null,
   "id": "14350814-1c8b-4030-8ee9-ae775058d68d",
   "metadata": {},
   "outputs": [],
   "source": []
  },
  {
   "cell_type": "code",
   "execution_count": 360,
   "id": "c8093548-59de-4da8-957f-58a3dba0d03b",
   "metadata": {},
   "outputs": [],
   "source": [
    "#супер красивый вывод от нейросети, оставлю для доработки\n",
    "def print_recommendations(result):\n",
    "    print(\"=\" * 70)\n",
    "    print(f\"РЕКОМЕНДАЦИИ ДЛЯ АВТОРА: {result['author']}\".center(70))\n",
    "    print(\"=\" * 70)\n",
    "    \n",
    "    print(\"\\n📚 Статьи автора:\")\n",
    "    for i, article in enumerate(result['articles'], 1):\n",
    "        print(f\"   {i}. {article}\")\n",
    "    \n",
    "    print(\"\\n🤝 Текущие соавторы:\")\n",
    "    print(\"\\n\".join(f\"   - {coauth}\" for coauth in result['current_coauthors']) or \"   Нет соавторов\")\n",
    "    \n",
    "    print(\"\\n🔥 Рекомендуемые новые соавторы:\")\n",
    "    for i, rec in enumerate(result['recommendations'], 1):\n",
    "  #      print(rec)\n",
    "        authors = \"\".join(rec['author'])\n",
    "        articles = \"\\n      \".join(rec['articles'])\n",
    "        print(f\"\\n{i}. {authors}\")\n",
    "        print(f\"   📑 Статьи: {articles}\")\n",
    "        print(f\"   🎯 Схожесть: {rec['score']:.4f}\")\n",
    "    print(\"=\" * 70)"
   ]
  },
  {
   "cell_type": "code",
   "execution_count": 362,
   "id": "cf65829d-9d4b-403a-9971-0fd55d73d2ff",
   "metadata": {},
   "outputs": [
    {
     "name": "stdout",
     "output_type": "stream",
     "text": [
      "======================================================================\n",
      "               РЕКОМЕНДАЦИИ ДЛЯ АВТОРА: Большаков А. О.               \n",
      "======================================================================\n",
      "\n",
      "📚 Статьи автора:\n",
      "   1. АВТОМАТИЗАЦИЯ ПРОЦЕССОВ МОНИТОРИНГА И ИНВЕНТАРИЗАЦИИ ИНФОРМАЦИОННО-ТЕХНОЛОГИЧЕСКОЙ ИНФРАСТРУКТУРЫ, ПРИМЕНЯЕМОЙ В УЧЕБНОМ ПРОЦЕССЕ\n",
      "\n",
      "🤝 Текущие соавторы:\n",
      "   - Леонтьев А. С.\n",
      "\n",
      "🔥 Рекомендуемые новые соавторы:\n",
      "\n",
      "1. Воеводин Вл В.\n",
      "   📑 Статьи: Эволюция системы метакомпьютинга X-Com\n",
      "   🎯 Схожесть: 0.4426\n",
      "\n",
      "2. Здитовец А. Л.\n",
      "   📑 Статьи: ОСНОВНЫЕ ТЕХНОЛОГИИ И ФРЕЙМВОРКИ ДЛЯ БЕКЕНД-РАЗРАБОТКИ НА JAVA\n",
      "   🎯 Схожесть: 0.4311\n",
      "\n",
      "3. Иванов Сергей Владимирович\n",
      "   📑 Статьи: Разработка и реализация алгоритмов передачи данных в телекоммуникационных системах\n",
      "   🎯 Схожесть: 0.4032\n",
      "======================================================================\n"
     ]
    }
   ],
   "source": [
    "result = get_author_recommendations(df, \"Большаков А. О.\")\n",
    "print_recommendations(result)"
   ]
  },
  {
   "cell_type": "code",
   "execution_count": null,
   "id": "e9a196a8-43aa-4fd2-b437-34eb9c44aa6a",
   "metadata": {},
   "outputs": [],
   "source": []
  },
  {
   "cell_type": "code",
   "execution_count": null,
   "id": "160ca182-3c2a-4d96-9ae8-4a7ac3a81915",
   "metadata": {},
   "outputs": [],
   "source": []
  },
  {
   "cell_type": "code",
   "execution_count": null,
   "id": "f084101e-62b5-44d3-b36c-c197354363ab",
   "metadata": {},
   "outputs": [],
   "source": []
  },
  {
   "cell_type": "code",
   "execution_count": null,
   "id": "ac25c707-c80e-4dbd-9860-88f914b6dc2e",
   "metadata": {},
   "outputs": [],
   "source": []
  },
  {
   "cell_type": "code",
   "execution_count": null,
   "id": "d5b1a6ef-da46-4bc5-bd6f-f5de0cc044ea",
   "metadata": {},
   "outputs": [],
   "source": []
  },
  {
   "cell_type": "code",
   "execution_count": null,
   "id": "584baa6d-7b09-4a42-895c-28e62dd17208",
   "metadata": {},
   "outputs": [],
   "source": []
  },
  {
   "cell_type": "code",
   "execution_count": null,
   "id": "3e80dbef-958e-4362-a42c-2e6fd84d3e29",
   "metadata": {},
   "outputs": [],
   "source": []
  },
  {
   "cell_type": "code",
   "execution_count": null,
   "id": "8454e21a-046a-4a9a-abf3-5ce4e321595a",
   "metadata": {},
   "outputs": [],
   "source": []
  },
  {
   "cell_type": "code",
   "execution_count": null,
   "id": "103443aa-eb60-4dd7-82ba-352460a4f9e5",
   "metadata": {},
   "outputs": [],
   "source": []
  }
 ],
 "metadata": {
  "kernelspec": {
   "display_name": "Python (GPU)",
   "language": "python",
   "name": "gpu_env"
  },
  "language_info": {
   "codemirror_mode": {
    "name": "ipython",
    "version": 3
   },
   "file_extension": ".py",
   "mimetype": "text/x-python",
   "name": "python",
   "nbconvert_exporter": "python",
   "pygments_lexer": "ipython3",
   "version": "3.12.7"
  }
 },
 "nbformat": 4,
 "nbformat_minor": 5
}
